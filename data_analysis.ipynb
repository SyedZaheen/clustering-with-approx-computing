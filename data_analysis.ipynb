{
 "cells": [
  {
   "cell_type": "code",
   "execution_count": 7,
   "metadata": {},
   "outputs": [],
   "source": [
    "import pandas as pd\n",
    "import numpy as np\n",
    "import matplotlib.pyplot as plt"
   ]
  },
  {
   "cell_type": "code",
   "execution_count": 33,
   "metadata": {},
   "outputs": [],
   "source": [
    "adders_raw = \"\"\"\n",
    "accurate_adder    , LOA               , LOAWA             , APPROX5           , HEAA              , M_HEAA            , OLOCA             , HOERAA            , CEETA             , HOAANED           , HERLOA            , M_HERLOA          , COREA             , BPAA1            , DBAA              , NAA               , BPAA1_LSP1        , BPAA2            , BPAA2_LSP1        , SAAR16            , M_SAAR16          , HPETA_II\n",
    "\"\"\"\n",
    "datasets = ['aggregation', 'engytime', 'DS-850', 'diamond9']\n",
    "adders = [\n",
    "    \"accurate_adder\",\n",
    "    \"LOA\",\n",
    "    \"LOAWA\",\n",
    "    \"APPROX5\",\n",
    "    \"HEAA\",\n",
    "    \"M_HEAA\",\n",
    "    \"OLOCA\",\n",
    "    \"HOERAA\",\n",
    "    \"CEETA\",\n",
    "    \"HOAANED\",\n",
    "    \"HERLOA\",\n",
    "    \"M_HERLOA\",\n",
    "    \"COREA\",\n",
    "    \"DBAA\",\n",
    "    \"NAA\",\n",
    "    \"BPAA2_LSP1\",\n",
    "    \"SAAR16\",\n",
    "    \"HPETA_II\"   \n",
    "]\n",
    "\n",
    "sizes = [\n",
    "    5,\n",
    "    5,\n",
    "4,\n",
    "4,\n",
    "5,\n",
    "5,\n",
    "5,\n",
    "5,\n",
    "4,\n",
    "4,\n",
    "5,\n",
    "5,\n",
    "5,\n",
    "4,\n",
    "4,\n",
    "7,\n",
    "7,\n",
    "7,\n",
    "\n",
    "]"
   ]
  },
  {
   "cell_type": "code",
   "execution_count": 52,
   "metadata": {},
   "outputs": [],
   "source": [
    "\n",
    "path_to_csv_aggregation = r'C:\\Users\\All Saints\\Desktop\\Uni mods\\fyp\\FYP code\\clustering-with-approx-computing\\results\\random_state_42\\init_42_aggregation_16.csv'\n",
    "path_to_csv_engytime = r'C:\\Users\\All Saints\\Desktop\\Uni mods\\fyp\\FYP code\\clustering-with-approx-computing\\results\\random_state_42\\init_42_engytime_16.csv'\n",
    "path_to_csv_DS_850 = r'C:\\Users\\All Saints\\Desktop\\Uni mods\\fyp\\FYP code\\clustering-with-approx-computing\\results\\random_state_42\\init_42_DS-850_16.csv'\n",
    "path_to_csv_diamond9 = r'C:\\Users\\All Saints\\Desktop\\Uni mods\\fyp\\FYP code\\clustering-with-approx-computing\\results\\random_state_42\\init_42_diamond9_16.csv'\n",
    "\n",
    "# Load the data into dataframes with the rows as the \n",
    "df_aggregation = pd.read_csv(path_to_csv_aggregation, index_col=0)\n",
    "df_engytime = pd.read_csv(path_to_csv_engytime, index_col=0)\n",
    "df_DS_850 = pd.read_csv(path_to_csv_DS_850, index_col=0)\n",
    "df_diamond9 = pd.read_csv(path_to_csv_diamond9, index_col=0)\n",
    "\n",
    "df_aggregation.columns = df_aggregation.columns.str.strip()\n",
    "df_engytime.columns = df_engytime.columns.str.strip()\n",
    "df_DS_850.columns = df_DS_850.columns.str.strip()\n",
    "df_diamond9.columns = df_diamond9.columns.str.strip()\n"
   ]
  },
  {
   "cell_type": "code",
   "execution_count": 53,
   "metadata": {},
   "outputs": [
    {
     "data": {
      "text/plain": [
       "Adder_name\n",
       "4     11427.231933\n",
       "5     11427.231933\n",
       "6     11429.171109\n",
       "7     11434.693281\n",
       "8     11435.266513\n",
       "9     11512.505293\n",
       "10    12940.891407\n",
       "Name: COREA, dtype: float64"
      ]
     },
     "execution_count": 53,
     "metadata": {},
     "output_type": "execute_result"
    }
   ],
   "source": [
    "df_aggregation[\"COREA\"] "
   ]
  },
  {
   "cell_type": "code",
   "execution_count": 70,
   "metadata": {},
   "outputs": [
    {
     "name": "stdout",
     "output_type": "stream",
     "text": [
      "accurate_adder\n",
      "LOA\n",
      "LOAWA\n",
      "APPROX5\n",
      "HEAA\n",
      "M_HEAA\n",
      "OLOCA\n",
      "HOERAA\n",
      "CEETA\n",
      "HOAANED\n",
      "HERLOA\n",
      "M_HERLOA\n",
      "COREA\n",
      "DBAA\n",
      "NAA\n",
      "BPAA2_LSP1\n",
      "SAAR16\n",
      "HPETA_II\n"
     ]
    }
   ],
   "source": [
    "# print(\"For aggregation dataset:\\n\")\n",
    "for i, adder in enumerate(adders):\n",
    "    print(adder)\n",
    "    # print(f\"{df_diamond9[adder][sizes[i]]:.2f}\")"
   ]
  },
  {
   "cell_type": "code",
   "execution_count": 63,
   "metadata": {},
   "outputs": [
    {
     "ename": "SyntaxError",
     "evalue": "invalid syntax (<ipython-input-63-f9735e72adf7>, line 2)",
     "output_type": "error",
     "traceback": [
      "\u001b[1;36m  File \u001b[1;32m\"<ipython-input-63-f9735e72adf7>\"\u001b[1;36m, line \u001b[1;32m2\u001b[0m\n\u001b[1;33m    print(2.34234234:2)\u001b[0m\n\u001b[1;37m                    ^\u001b[0m\n\u001b[1;31mSyntaxError\u001b[0m\u001b[1;31m:\u001b[0m invalid syntax\n"
     ]
    }
   ],
   "source": [
    "# round off to 2 decimal places\n",
    "print(2.34234234:2)"
   ]
  },
  {
   "cell_type": "code",
   "execution_count": null,
   "metadata": {},
   "outputs": [],
   "source": []
  }
 ],
 "metadata": {
  "kernelspec": {
   "display_name": "Python 3",
   "language": "python",
   "name": "python3"
  },
  "language_info": {
   "codemirror_mode": {
    "name": "ipython",
    "version": 3
   },
   "file_extension": ".py",
   "mimetype": "text/x-python",
   "name": "python",
   "nbconvert_exporter": "python",
   "pygments_lexer": "ipython3",
   "version": "3.9.1"
  }
 },
 "nbformat": 4,
 "nbformat_minor": 2
}
